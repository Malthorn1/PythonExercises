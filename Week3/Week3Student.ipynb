{
 "cells": [
  {
   "cell_type": "code",
   "execution_count": 12,
   "metadata": {},
   "outputs": [],
   "source": [
    "import random"
   ]
  },
  {
   "cell_type": "code",
   "execution_count": 13,
   "metadata": {},
   "outputs": [],
   "source": [
    "class Student (): \n",
    "    def __init__ (self,studentID,  name, gender,  dataSheet, image_url): \n",
    "        self.studentID = studentID\n",
    "        self.name = name \n",
    "        self.gender = gender\n",
    "        self.dataSheet = dataSheet\n",
    "        self.image_url = image_url\n",
    "\n",
    "    def averageGrade(self): \n",
    "        grades =  dataSheet.getGrades_as_list(self.dataSheet)\n",
    "        average = sum(grades) /len(grades)\n",
    "\n",
    "        return average\n",
    "        \n",
    "\n"
   ]
  },
  {
   "cell_type": "code",
   "execution_count": 14,
   "metadata": {},
   "outputs": [],
   "source": [
    "class dataSheet (): \n",
    "    def __init__ (self, courses=[] ): \n",
    "        self.courses = courses    \n",
    "    \n",
    "\n",
    "    def getGrades_as_list (self): \n",
    "        listOfGrades = []\n",
    "        for course in self.courses:\n",
    "            listOfGrades.append(course.grade) \n",
    "        return listOfGrades\n",
    "\n",
    "\n"
   ]
  },
  {
   "cell_type": "code",
   "execution_count": 15,
   "metadata": {},
   "outputs": [],
   "source": [
    "\n",
    "class courses () : \n",
    "    def __init__ (self, name, classroom, teacher, ECTS, grade): \n",
    "        self.name = name \n",
    "        self.classroom = classroom\n",
    "        self.teacher = teacher\n",
    "        self.ECTS = ECTS\n",
    "        self.grade = grade\n",
    "\n"
   ]
  },
  {
   "cell_type": "code",
   "execution_count": 16,
   "metadata": {},
   "outputs": [
    {
     "name": "stdout",
     "output_type": "stream",
     "text": [
      "7.0\n"
     ]
    }
   ],
   "source": [
    "\n",
    "\n",
    "c1 = courses (\"English\", \"305\", \"Bente\", 10, 7)\n",
    "c2 = courses (\"Danish\", \"306\", \"Anne\", 10, 4)\n",
    "c3 = courses (\"Sports\", \"0\", \"Claus\", 15, 10)\n",
    "\n",
    "dataSheet1  =  [c1,c2,c3]\n",
    "\n",
    "d1 = dataSheet (dataSheet1)\n",
    "\n",
    "\n",
    "s1 = Student (2, \"Mikkel\", \"Male\", d1, \"img url\") \n",
    "\n",
    "\n",
    "print(Student.averageGrade(s1))\n",
    "\n",
    "\n"
   ]
  },
  {
   "cell_type": "code",
   "execution_count": 17,
   "metadata": {},
   "outputs": [],
   "source": [
    "\n",
    "\n",
    "## OPGAVE  7 \n",
    "def randomStudentToCSV  () :\n",
    "    names = [ \"Pelle\", \"Aske\", \"Rasmus\", \"Mads\", \"julie\", \"Sofie\"]\n",
    "    gender = [\"Male\", \"Female\"]\n",
    "    \n",
    "    c1 = courses (\"English\", \"305\", \"Bente\", 10, 7)\n",
    "    c2 = courses (\"Danish\", \"306\", \"Anne\", 10, 4)\n",
    "    c3 = courses (\"Sports\", \"0\", \"Claus\", 15, 10)\n",
    "    dataSheet1  =  [c1,c2,c3]\n",
    "\n",
    "    \n",
    "    grade = [-3, 0, 2, 4,7,10,12]\n",
    "    studentID = 0\n",
    "    \n",
    "    Numbers = [0,1,2,3,4,5,6,7,8,9,10,11,12,13,14,15,16,17,18,19,20]\n",
    "    for n in Numbers:\n",
    "        randomName = random.choice(names)\n",
    "        randomGender = random.choice(gender)\n",
    "        randomClass = random.choice(dataSheet1)\n",
    "        randomgrade = random.choice(grade)\n",
    "        \n",
    "\n",
    "        \n",
    "        s2 = Student (studentID, randomName, randomGender, randomClass, \"img url\") \n",
    "        studentID = studentID+1\n",
    "        print(s2.name)\n",
    "        print(s2.studentID)\n",
    "        print(s2.dataSheet.name)\n",
    "        listOfStudents.append(s2)\n",
    "\n",
    "\n",
    "    return listOfStudents\n"
   ]
  },
  {
   "cell_type": "code",
   "execution_count": 7,
   "metadata": {},
   "outputs": [
    {
     "name": "stdout",
     "output_type": "stream",
     "text": [
      "Aske\n",
      "0\n",
      "English\n",
      "Rasmus\n",
      "1\n",
      "Danish\n",
      "julie\n",
      "2\n",
      "Sports\n",
      "julie\n",
      "3\n",
      "English\n",
      "Pelle\n",
      "4\n",
      "Danish\n",
      "Sofie\n",
      "5\n",
      "Sports\n",
      "Mads\n",
      "6\n",
      "Sports\n",
      "Rasmus\n",
      "7\n",
      "Sports\n",
      "Sofie\n",
      "8\n",
      "Danish\n",
      "Sofie\n",
      "9\n",
      "Sports\n",
      "Aske\n",
      "10\n",
      "Danish\n",
      "julie\n",
      "11\n",
      "Sports\n",
      "Mads\n",
      "12\n",
      "English\n",
      "Mads\n",
      "13\n",
      "Sports\n",
      "Mads\n",
      "14\n",
      "Danish\n",
      "julie\n",
      "15\n",
      "English\n",
      "Sofie\n",
      "16\n",
      "Sports\n",
      "julie\n",
      "17\n",
      "English\n",
      "Rasmus\n",
      "18\n",
      "English\n",
      "Pelle\n",
      "19\n",
      "Sports\n",
      "julie\n",
      "20\n",
      "Danish\n"
     ]
    }
   ],
   "source": [
    "\n",
    "listOfStudents = []\n",
    "listOfStudents= randomStudentToCSV()\n",
    "\n"
   ]
  },
  {
   "cell_type": "code",
   "execution_count": 18,
   "metadata": {},
   "outputs": [],
   "source": [
    "\n",
    "import csv\n",
    "with open('student.csv', 'w',) as csvfile:\n",
    "    fieldnames = ['stud_name', 'course_name', 'teacher', 'ects', 'classroom', 'grade', 'img_url']\n",
    "    writer = csv.DictWriter(csvfile, fieldnames=fieldnames)\n",
    "    writer.writeheader()\n",
    "    for s in listOfStudents:\n",
    "        writer.writerow({  'stud_name':  s.name, 'course_name': s.dataSheet.name, 'teacher': s.dataSheet.teacher, 'ects': s.dataSheet.ECTS, 'classroom': s.dataSheet.classroom, 'grade': s.dataSheet.grade , 'img_url': s.image_url})\n",
    "\n"
   ]
  },
  {
   "cell_type": "code",
   "execution_count": 19,
   "metadata": {},
   "outputs": [],
   "source": [
    "\n",
    "def read_file_to_list(file) : \n",
    "    with open (file, newline='') as f : \n",
    "       reader = csv.reader(f)\n",
    "       header_row = next(reader)\n",
    "       student_list = []\n",
    "       for row in reader: \n",
    "         student_list.append(row)\n",
    "    return student_list\n"
   ]
  },
  {
   "cell_type": "code",
   "execution_count": 25,
   "metadata": {},
   "outputs": [
    {
     "name": "stdout",
     "output_type": "stream",
     "text": [
      "[['Aske', 'English', 'Bente', '10', '305', '7', 'img url'], ['Rasmus', 'Danish', 'Anne', '10', '306', '4', 'img url'], ['julie', 'Sports', 'Claus', '15', '0', '10', 'img url'], ['julie', 'English', 'Bente', '10', '305', '7', 'img url'], ['Pelle', 'Danish', 'Anne', '10', '306', '4', 'img url'], ['Sofie', 'Sports', 'Claus', '15', '0', '10', 'img url'], ['Mads', 'Sports', 'Claus', '15', '0', '10', 'img url'], ['Rasmus', 'Sports', 'Claus', '15', '0', '10', 'img url'], ['Sofie', 'Danish', 'Anne', '10', '306', '4', 'img url'], ['Sofie', 'Sports', 'Claus', '15', '0', '10', 'img url'], ['Aske', 'Danish', 'Anne', '10', '306', '4', 'img url'], ['julie', 'Sports', 'Claus', '15', '0', '10', 'img url'], ['Mads', 'English', 'Bente', '10', '305', '7', 'img url'], ['Mads', 'Sports', 'Claus', '15', '0', '10', 'img url'], ['Mads', 'Danish', 'Anne', '10', '306', '4', 'img url'], ['julie', 'English', 'Bente', '10', '305', '7', 'img url'], ['Sofie', 'Sports', 'Claus', '15', '0', '10', 'img url'], ['julie', 'English', 'Bente', '10', '305', '7', 'img url'], ['Rasmus', 'English', 'Bente', '10', '305', '7', 'img url'], ['Pelle', 'Sports', 'Claus', '15', '0', '10', 'img url'], ['julie', 'Danish', 'Anne', '10', '306', '4', 'img url']]\n"
     ]
    }
   ],
   "source": [
    "\n",
    "def printlist (liste):\n",
    "    newlist = []\n",
    "    for s in liste: \n",
    "        tempStudent = [s[0], s[6], s[5]]\n",
    "        newlist.append(tempStudent)\n",
    "\n",
    "\n",
    "newlistOfstudents = read_file_to_list(\"student.csv\")\n",
    "print(newlistOfstudents)\n",
    "\n",
    "\n"
   ]
  },
  {
   "cell_type": "code",
   "execution_count": null,
   "metadata": {},
   "outputs": [],
   "source": []
  },
  {
   "cell_type": "code",
   "execution_count": null,
   "metadata": {},
   "outputs": [],
   "source": []
  },
  {
   "cell_type": "code",
   "execution_count": null,
   "metadata": {},
   "outputs": [],
   "source": []
  },
  {
   "cell_type": "code",
   "execution_count": null,
   "metadata": {},
   "outputs": [],
   "source": []
  },
  {
   "cell_type": "code",
   "execution_count": null,
   "metadata": {},
   "outputs": [],
   "source": []
  },
  {
   "cell_type": "code",
   "execution_count": null,
   "metadata": {},
   "outputs": [],
   "source": []
  },
  {
   "cell_type": "code",
   "execution_count": null,
   "metadata": {},
   "outputs": [],
   "source": []
  },
  {
   "cell_type": "code",
   "execution_count": null,
   "metadata": {},
   "outputs": [],
   "source": []
  },
  {
   "cell_type": "code",
   "execution_count": null,
   "metadata": {},
   "outputs": [],
   "source": []
  },
  {
   "cell_type": "code",
   "execution_count": null,
   "metadata": {},
   "outputs": [],
   "source": []
  },
  {
   "cell_type": "code",
   "execution_count": null,
   "metadata": {},
   "outputs": [],
   "source": []
  },
  {
   "cell_type": "code",
   "execution_count": null,
   "metadata": {},
   "outputs": [],
   "source": []
  },
  {
   "cell_type": "code",
   "execution_count": null,
   "metadata": {},
   "outputs": [],
   "source": []
  },
  {
   "cell_type": "code",
   "execution_count": null,
   "metadata": {},
   "outputs": [],
   "source": []
  },
  {
   "cell_type": "code",
   "execution_count": null,
   "metadata": {},
   "outputs": [],
   "source": []
  }
 ],
 "metadata": {
  "kernelspec": {
   "display_name": "Python 3",
   "language": "python",
   "name": "python3"
  },
  "language_info": {
   "codemirror_mode": {
    "name": "ipython",
    "version": 3
   },
   "file_extension": ".py",
   "mimetype": "text/x-python",
   "name": "python",
   "nbconvert_exporter": "python",
   "pygments_lexer": "ipython3",
   "version": "3.7.6"
  }
 },
 "nbformat": 4,
 "nbformat_minor": 4
}
