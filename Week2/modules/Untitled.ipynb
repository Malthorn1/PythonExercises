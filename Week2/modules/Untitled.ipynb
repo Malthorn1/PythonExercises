{
 "cells": [
  {
   "cell_type": "code",
   "execution_count": null,
   "metadata": {},
   "outputs": [],
   "source": []
  },
  {
   "cell_type": "markdown",
   "metadata": {},
   "source": [
    "#ReadFile"
   ]
  },
  {
   "cell_type": "code",
   "execution_count": 4,
   "metadata": {},
   "outputs": [],
   "source": [
    "import csv\n",
    "def print_file_content(filename) :\n",
    "    pi_string = ''\n",
    "    textlist = []\n",
    "\n",
    "    if filename.endswith(\".csv\") : \n",
    "        with open(filename, newline='') as f:\n",
    "            reader = csv.reader(f)\n",
    "            textlist = list(reader)\n",
    "        \n",
    "        return textlist\n",
    "    else: \n",
    "        with open(filename,'r') as file_object:\n",
    "            lines = file_object.readlines()\n",
    "        for line in lines:\n",
    "            pi_string += line.rstrip() + '\\n'\n",
    "            textlist.append(line.strip())\n",
    "            # pi_string += line.strip()\n",
    "        \n",
    "        print(pi_string) \n",
    "        print(len(pi_string))\n",
    "        return textlist\n",
    "        "
   ]
  },
  {
   "cell_type": "markdown",
   "metadata": {},
   "source": [
    "testfile\n"
   ]
  },
  {
   "cell_type": "code",
   "execution_count": 5,
   "metadata": {},
   "outputs": [
    {
     "name": "stdout",
     "output_type": "stream",
     "text": [
      "-f\n"
     ]
    },
    {
     "ename": "FileNotFoundError",
     "evalue": "[Errno 2] No such file or directory: '-f'",
     "output_type": "error",
     "traceback": [
      "\u001b[0;31m---------------------------------------------------------------------------\u001b[0m",
      "\u001b[0;31mFileNotFoundError\u001b[0m                         Traceback (most recent call last)",
      "\u001b[0;32m<ipython-input-5-2af428743c73>\u001b[0m in \u001b[0;36m<module>\u001b[0;34m\u001b[0m\n\u001b[1;32m      8\u001b[0m     \u001b[0mpath\u001b[0m \u001b[0;34m=\u001b[0m \u001b[0msys\u001b[0m\u001b[0;34m.\u001b[0m\u001b[0margv\u001b[0m\u001b[0;34m[\u001b[0m\u001b[0;36m1\u001b[0m\u001b[0;34m]\u001b[0m\u001b[0;34m\u001b[0m\u001b[0;34m\u001b[0m\u001b[0m\n\u001b[1;32m      9\u001b[0m \u001b[0;34m\u001b[0m\u001b[0m\n\u001b[0;32m---> 10\u001b[0;31m \u001b[0mfilesInDirectory\u001b[0m\u001b[0;34m(\u001b[0m\u001b[0mpath\u001b[0m\u001b[0;34m)\u001b[0m\u001b[0;34m\u001b[0m\u001b[0;34m\u001b[0m\u001b[0m\n\u001b[0m\u001b[1;32m     11\u001b[0m \u001b[0mgetListOfFiles\u001b[0m\u001b[0;34m(\u001b[0m\u001b[0mpath\u001b[0m\u001b[0;34m)\u001b[0m\u001b[0;34m\u001b[0m\u001b[0;34m\u001b[0m\u001b[0m\n\u001b[1;32m     12\u001b[0m \u001b[0mfirstineOfFiles\u001b[0m\u001b[0;34m(\u001b[0m\u001b[0mpath\u001b[0m\u001b[0;34m)\u001b[0m\u001b[0;34m\u001b[0m\u001b[0;34m\u001b[0m\u001b[0m\n",
      "\u001b[0;32m~/my_notebooks/Week2/modules/utils.py\u001b[0m in \u001b[0;36mfilesInDirectory\u001b[0;34m(path)\u001b[0m\n\u001b[1;32m      9\u001b[0m \u001b[0;34m\u001b[0m\u001b[0m\n\u001b[1;32m     10\u001b[0m \u001b[0;32mdef\u001b[0m \u001b[0mfilesInDirectory\u001b[0m \u001b[0;34m(\u001b[0m\u001b[0mpath\u001b[0m\u001b[0;34m)\u001b[0m\u001b[0;34m:\u001b[0m\u001b[0;34m\u001b[0m\u001b[0;34m\u001b[0m\u001b[0m\n\u001b[0;32m---> 11\u001b[0;31m     \u001b[0mprint\u001b[0m\u001b[0;34m(\u001b[0m\u001b[0mos\u001b[0m\u001b[0;34m.\u001b[0m\u001b[0mlistdir\u001b[0m\u001b[0;34m(\u001b[0m\u001b[0mpath\u001b[0m\u001b[0;34m)\u001b[0m\u001b[0;34m)\u001b[0m\u001b[0;34m\u001b[0m\u001b[0;34m\u001b[0m\u001b[0m\n\u001b[0m\u001b[1;32m     12\u001b[0m     \u001b[0mlst\u001b[0m \u001b[0;34m=\u001b[0m \u001b[0mos\u001b[0m\u001b[0;34m.\u001b[0m\u001b[0mlistdir\u001b[0m\u001b[0;34m(\u001b[0m\u001b[0mpath\u001b[0m\u001b[0;34m)\u001b[0m\u001b[0;34m\u001b[0m\u001b[0;34m\u001b[0m\u001b[0m\n\u001b[1;32m     13\u001b[0m     \u001b[0mwrite_list_to_file\u001b[0m\u001b[0;34m(\u001b[0m\u001b[0;34m\"dirlist.txt\"\u001b[0m\u001b[0;34m,\u001b[0m\u001b[0mlst\u001b[0m\u001b[0;34m)\u001b[0m\u001b[0;34m\u001b[0m\u001b[0;34m\u001b[0m\u001b[0m\n",
      "\u001b[0;31mFileNotFoundError\u001b[0m: [Errno 2] No such file or directory: '-f'"
     ]
    }
   ],
   "source": [
    "from utils import * \n",
    "\n",
    "\n",
    "if len(sys.argv)<2 :\n",
    "    path = \"/home/jovyan/my_notebooks\"\n",
    "else:\n",
    "    print(sys.argv[1] )\n",
    "    path = sys.argv[1]\n",
    "\n",
    "filesInDirectory(path)\n",
    "getListOfFiles(path) \n",
    "firstineOfFiles(path)\n",
    "hasEmail(path)\n",
    "hasMarkdown(path)"
   ]
  },
  {
   "cell_type": "markdown",
   "metadata": {},
   "source": [
    "#utils"
   ]
  },
  {
   "cell_type": "code",
   "execution_count": 6,
   "metadata": {},
   "outputs": [
    {
     "name": "stdout",
     "output_type": "stream",
     "text": [
      "['.git', '.ipynb_checkpoints', 'Class Exercises', 'dsafsa.txt', 'hej.txt', 'README.md', 'Week1', 'Week2', 'Week3', 'Week4', 'Week5']\n",
      "dasgafadwdads\n",
      "\n",
      "dasgafadwdads\n",
      "\n",
      ".git\n",
      "\n",
      "# PythonExercises\n",
      "\n",
      "/home/jovyan/my_notebooks/.git/COMMIT_EDITMSG\n",
      "\n",
      "from modules.readFile import *\n",
      "\n",
      "This is lines with @: derp@gmail.com\n",
      "\n"
     ]
    }
   ],
   "source": [
    "import sys\n",
    "from writeToFIle import * \n",
    "import os\n",
    "\n",
    "from pathlib import Path\n",
    "\n",
    "placeholderPath = \"/home/jovyan/my_notebooks\"\n",
    "\n",
    "\n",
    "def filesInDirectory (path):\n",
    "    print(os.listdir(path))\n",
    "    lst = os.listdir(path) \n",
    "    write_list_to_file(\"dirlist.txt\",lst)\n",
    "\n",
    "\n",
    "filesInDirectory (placeholderPath)\n",
    "\n",
    "def getListOfFiles(dirName):\n",
    "    #Laver en liste af filer og sub directories \n",
    "    # samt navne i det givne directory \n",
    "    \n",
    "    listOfFile = os.listdir(dirName)\n",
    "    allFiles = list()\n",
    "    # Iterer over all entries \n",
    "    for entry in listOfFile:\n",
    "        # laver en full path \n",
    "        fullPath = os.path.join(dirName, entry)\n",
    "        #Hvis entryet er et directory, finder den en liste af filer i det directory \n",
    "        if os.path.isdir(fullPath):\n",
    "            allFiles = allFiles + getListOfFiles(fullPath)\n",
    "        else:\n",
    "            allFiles.append(fullPath)\n",
    "              \n",
    "    return allFiles\n",
    "\n",
    "\n",
    "\n",
    "lst = getListOfFiles (placeholderPath)\n",
    "write_list_to_file(\"recursivedirlist.txt\", lst)\n",
    "\n",
    "\n",
    "\n",
    "def firstineOfFiles (lst): \n",
    "    \n",
    "    for line in lst:\n",
    "        if line.endswith(\".txt\"):\n",
    "            with open (line, \"r\") as file_object: \n",
    "                lines = file_object.readlines()\n",
    "                for i in range (1):\n",
    "                    print( lines[0])\n",
    "\n",
    "firstineOfFiles(lst)\n",
    "\n",
    "\n",
    "def hasEmail (lst): \n",
    "\n",
    "    for myfile in lst:\n",
    "        if myfile.endswith(\".txt\"):\n",
    "            with open (myfile, \"r\") as file_object: \n",
    "                lines = file_object.readlines()\n",
    "                for line in lines:\n",
    "                    if \"@\" in line:\n",
    "                        print(\"This is lines with @: \"+ line)\n",
    "\n",
    "hasEmail(lst)\n",
    "\n",
    "\n",
    "def hasMarkdown (lst): \n",
    "    for myfile in lst: \n",
    "        if myfile.endswith(\".md\"): \n",
    "            with open (myfile, \"r\") as file_object: \n",
    "                lines = file_object.readlines()\n",
    "                for line in lines:\n",
    "                    if \"#\" in line[0]:\n",
    "                        markdownlist = [line]\n",
    "                 \n",
    "                        write_list_to_file(\"mardowned.txt\", markdownlist)\n",
    "\n",
    "hasMarkdown(lst)     \n",
    "\n",
    "\n"
   ]
  }
 ],
 "metadata": {
  "kernelspec": {
   "display_name": "Python 3",
   "language": "python",
   "name": "python3"
  },
  "language_info": {
   "codemirror_mode": {
    "name": "ipython",
    "version": 3
   },
   "file_extension": ".py",
   "mimetype": "text/x-python",
   "name": "python",
   "nbconvert_exporter": "python",
   "pygments_lexer": "ipython3",
   "version": "3.7.6"
  }
 },
 "nbformat": 4,
 "nbformat_minor": 4
}
