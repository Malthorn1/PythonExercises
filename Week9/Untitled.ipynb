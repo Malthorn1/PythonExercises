{
 "cells": [
  {
   "cell_type": "code",
   "execution_count": 2,
   "metadata": {},
   "outputs": [],
   "source": [
    "\n",
    "import requests\n",
    "import random\n",
    "import networkx as nx\n",
    "url = \"https://raw.githubusercontent.com/Micniks/Python-Week9-Group-3-Assignments/main/italian_surnames.txt\"\n"
   ]
  },
  {
   "cell_type": "code",
   "execution_count": 6,
   "metadata": {},
   "outputs": [
    {
     "data": {
      "text/plain": [
       "['Rossi',\n",
       " 'Russo',\n",
       " 'Ferrari',\n",
       " 'Esposito',\n",
       " 'Bianchi',\n",
       " 'Romano',\n",
       " 'Colombo',\n",
       " 'Ricci',\n",
       " 'Marino',\n",
       " 'Greco',\n",
       " 'Bruno',\n",
       " 'Gallo',\n",
       " 'Conti',\n",
       " 'DeLuca',\n",
       " 'Mancini',\n",
       " 'Costa',\n",
       " 'Giordano',\n",
       " 'Rizzo',\n",
       " 'Lombardi',\n",
       " 'Moretti',\n",
       " 'Barbieri',\n",
       " 'Fontana',\n",
       " 'Santoro',\n",
       " 'Mariani',\n",
       " 'Rinaldi',\n",
       " 'Caruso',\n",
       " 'Ferrara',\n",
       " 'Galli',\n",
       " 'Martini',\n",
       " 'Leone',\n",
       " 'Longo',\n",
       " 'Gentile',\n",
       " 'Martinelli',\n",
       " 'Vitale',\n",
       " 'Lombardo',\n",
       " 'Serra',\n",
       " 'Coppola',\n",
       " 'DeSantis',\n",
       " \"D'angelo\",\n",
       " 'Marchetti',\n",
       " 'Parisi',\n",
       " 'Villa',\n",
       " 'Conte',\n",
       " 'Ferraro',\n",
       " 'Ferri',\n",
       " 'Fabbri',\n",
       " 'Bianco',\n",
       " 'Marini',\n",
       " 'Grasso',\n",
       " 'Valentini',\n",
       " 'Messina',\n",
       " 'Sala',\n",
       " 'DeAngelis',\n",
       " 'Gatti',\n",
       " 'Pellegrini',\n",
       " 'Palumbo',\n",
       " 'Sanna',\n",
       " 'Farina',\n",
       " 'Rizzi',\n",
       " 'Monti',\n",
       " 'Cattaneo',\n",
       " 'Morelli',\n",
       " 'Amato',\n",
       " 'Silvestri',\n",
       " 'Mazza',\n",
       " 'Testa',\n",
       " 'Grassi',\n",
       " 'Pellegrino',\n",
       " 'Carbone',\n",
       " 'Giuliani',\n",
       " 'Benedetti',\n",
       " 'Barone',\n",
       " 'Rossetti',\n",
       " 'Caputo',\n",
       " 'Montanari',\n",
       " 'Guerra',\n",
       " 'Palmieri',\n",
       " 'Bernardi',\n",
       " 'Martino',\n",
       " 'Fiore',\n",
       " 'DeRosa',\n",
       " 'Ferretti',\n",
       " 'Bellini',\n",
       " 'Basile',\n",
       " 'Riva',\n",
       " 'Donati',\n",
       " 'Piras',\n",
       " 'Vitali',\n",
       " 'Battaglia',\n",
       " 'Sartori',\n",
       " 'Neri',\n",
       " 'Costantini',\n",
       " 'Milani',\n",
       " 'Pagano',\n",
       " 'Ruggiero',\n",
       " 'Sorrentino',\n",
       " \"D'amico\",\n",
       " 'Orlando',\n",
       " 'Damico',\n",
       " 'Negri']"
      ]
     },
     "execution_count": 6,
     "metadata": {},
     "output_type": "execute_result"
    }
   ],
   "source": [
    "response = requests.get(url)\n",
    "full_read = ''\n",
    "for line in response:\n",
    "    decoded_line = line.decode(\"utf-8\")\n",
    "    full_read =  full_read + decoded_line\n",
    "\n",
    "surnames = full_read.split(\"\\n\")\n",
    "surnames"
   ]
  },
  {
   "cell_type": "code",
   "execution_count": null,
   "metadata": {},
   "outputs": [],
   "source": []
  },
  {
   "cell_type": "code",
   "execution_count": null,
   "metadata": {},
   "outputs": [],
   "source": []
  },
  {
   "cell_type": "code",
   "execution_count": null,
   "metadata": {},
   "outputs": [],
   "source": []
  },
  {
   "cell_type": "code",
   "execution_count": null,
   "metadata": {},
   "outputs": [],
   "source": []
  },
  {
   "cell_type": "code",
   "execution_count": null,
   "metadata": {},
   "outputs": [],
   "source": []
  },
  {
   "cell_type": "code",
   "execution_count": null,
   "metadata": {},
   "outputs": [],
   "source": []
  },
  {
   "cell_type": "code",
   "execution_count": null,
   "metadata": {},
   "outputs": [],
   "source": []
  },
  {
   "cell_type": "code",
   "execution_count": null,
   "metadata": {},
   "outputs": [],
   "source": []
  },
  {
   "cell_type": "code",
   "execution_count": null,
   "metadata": {},
   "outputs": [],
   "source": []
  },
  {
   "cell_type": "code",
   "execution_count": null,
   "metadata": {},
   "outputs": [],
   "source": []
  },
  {
   "cell_type": "code",
   "execution_count": null,
   "metadata": {},
   "outputs": [],
   "source": []
  },
  {
   "cell_type": "code",
   "execution_count": null,
   "metadata": {},
   "outputs": [],
   "source": []
  }
 ],
 "metadata": {
  "kernelspec": {
   "display_name": "Python 3",
   "language": "python",
   "name": "python3"
  },
  "language_info": {
   "codemirror_mode": {
    "name": "ipython",
    "version": 3
   },
   "file_extension": ".py",
   "mimetype": "text/x-python",
   "name": "python",
   "nbconvert_exporter": "python",
   "pygments_lexer": "ipython3",
   "version": "3.7.6"
  }
 },
 "nbformat": 4,
 "nbformat_minor": 4
}
