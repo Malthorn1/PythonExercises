{
 "cells": [
  {
   "cell_type": "code",
   "execution_count": 7,
   "metadata": {},
   "outputs": [
    {
     "name": "stdout",
     "output_type": "stream",
     "text": [
      "from modules.readFile import *\n",
      "from modules.writeToFIle import *\n",
      "import sys\n",
      "readFrom = sys.argv[0]\n",
      "writeTo = sys.argv[1]\n",
      "print(readFrom)\n",
      "print(writeTo)\n",
      "\n",
      "\n",
      "print(\"test\")\n",
      "\n",
      "\n",
      "derp@gmail.com\n",
      "\n",
      "\n",
      "textlist = print_file_content(readFrom)\n",
      "write_list_to_file(writeTo,textlist)\n",
      "\n",
      "264\n"
     ]
    }
   ],
   "source": [
    "from modules.readFile import *\n",
    "from modules.writeToFIle import * \n",
    "import sys\n",
    "\n",
    "\n",
    "## Program takes 2 arguments, a current file eiter .txt or .csv and a new file csv or txt\n",
    "##\n",
    "\n",
    "if __name__ == \"__main__\":\n",
    "    readFrom =  \"text.txt\"  #sys.argv[1]\n",
    "    writeTo =  \"newtext.txt\"#sys.argv[2]\n",
    "    textlist = []\n",
    "    textlist = print_file_content(readFrom)\n",
    "    write_list_to_file(writeTo,textlist)\n",
    "\n"
   ]
  }
 ],
 "metadata": {
  "kernelspec": {
   "display_name": "Python 3",
   "language": "python",
   "name": "python3"
  },
  "language_info": {
   "codemirror_mode": {
    "name": "ipython",
    "version": 3
   },
   "file_extension": ".py",
   "mimetype": "text/x-python",
   "name": "python",
   "nbconvert_exporter": "python",
   "pygments_lexer": "ipython3",
   "version": "3.7.6"
  }
 },
 "nbformat": 4,
 "nbformat_minor": 4
}
