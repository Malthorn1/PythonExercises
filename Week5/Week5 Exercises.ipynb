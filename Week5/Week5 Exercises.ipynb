{
 "cells": [
  {
   "cell_type": "code",
   "execution_count": null,
   "metadata": {},
   "outputs": [],
   "source": []
  },
  {
   "cell_type": "markdown",
   "metadata": {},
   "source": [
    "## Ex1 Use data from Danmarks Statistik - Databanken\n",
    "1. Go to https://www.dst.dk/da/Statistik/brug-statistikken/muligheder-i-statistikbanken/api#testkonsol\n",
    "2. Open 'Konsol' and click 'Start Konsol'\n",
    "3. In the console at pt 1: choose 'Retrieve tables', pt 2: choose get request and json format and pt 3: execute:\n",
    "  1. check the result\n",
    "  2. in the code below this same get request is used to get information about all available data tables in 'databanken'. \n",
    "4. Change pt. 1 in the console to 'Retrieve data', pt 2: 'get request' and Table id: 'FOLK1A', format: csv, delimiter: semicolon and click: 'Variable and value codes' and choose some sub categories (Hint: hover over the codes to see their meaning). Finally execute and see what data you get.\n",
    "5. With data aggregation and data visualization answer the following questions:\n",
    "  1. What is the change in pct of divorced danes from 2008 to 2020?\n",
    "  2. Which of the 5 biggest cities has the highest percentage of 'Never Married' in 2020?\n",
    "  3. Show a bar chart of changes in marrital status in Copenhagen from 2008 till now\n",
    "  4. Show 2 plots in same figure: 'Married' and 'Never Married' for all ages in DK in 2020 (Hint: x axis is age from 0-125, y axis is how many people in the 2 categories). Add lengend to show names on graphs\n",
    "  \n",
    "## Ex2 Use another table (extra)\n",
    "Choose any of the other tables in 'databanken' to find interesting data.\n",
    "1. Collect the data\n",
    "2. Pose 5 or more interesing questions to the data\n",
    "3. Answer the questions by aggregating the data\n",
    "4. Illustrate the answers with visual plots"
   ]
  },
  {
   "cell_type": "code",
   "execution_count": 1,
   "metadata": {},
   "outputs": [
    {
     "data": {
      "text/html": [
       "<div>\n",
       "<style scoped>\n",
       "    .dataframe tbody tr th:only-of-type {\n",
       "        vertical-align: middle;\n",
       "    }\n",
       "\n",
       "    .dataframe tbody tr th {\n",
       "        vertical-align: top;\n",
       "    }\n",
       "\n",
       "    .dataframe thead th {\n",
       "        text-align: right;\n",
       "    }\n",
       "</style>\n",
       "<table border=\"1\" class=\"dataframe\">\n",
       "  <thead>\n",
       "    <tr style=\"text-align: right;\">\n",
       "      <th></th>\n",
       "      <th>id</th>\n",
       "      <th>text</th>\n",
       "      <th>unit</th>\n",
       "      <th>updated</th>\n",
       "      <th>firstPeriod</th>\n",
       "      <th>latestPeriod</th>\n",
       "      <th>active</th>\n",
       "      <th>variables</th>\n",
       "    </tr>\n",
       "  </thead>\n",
       "  <tbody>\n",
       "    <tr>\n",
       "      <th>0</th>\n",
       "      <td>FOLK1A</td>\n",
       "      <td>Folketal den 1. i kvartalet</td>\n",
       "      <td>antal</td>\n",
       "      <td>2020-08-11T08:00:00</td>\n",
       "      <td>2008K1</td>\n",
       "      <td>2020K3</td>\n",
       "      <td>True</td>\n",
       "      <td>[område, køn, alder, civilstand, tid]</td>\n",
       "    </tr>\n",
       "    <tr>\n",
       "      <th>1</th>\n",
       "      <td>FOLK1B</td>\n",
       "      <td>Folketal den 1. i kvartalet</td>\n",
       "      <td>antal</td>\n",
       "      <td>2020-08-11T08:00:00</td>\n",
       "      <td>2008K1</td>\n",
       "      <td>2020K3</td>\n",
       "      <td>True</td>\n",
       "      <td>[område, køn, alder, statsborgerskab, tid]</td>\n",
       "    </tr>\n",
       "    <tr>\n",
       "      <th>2</th>\n",
       "      <td>FOLK1C</td>\n",
       "      <td>Folketal den 1. i kvartalet</td>\n",
       "      <td>antal</td>\n",
       "      <td>2020-08-11T08:00:00</td>\n",
       "      <td>2008K1</td>\n",
       "      <td>2020K3</td>\n",
       "      <td>True</td>\n",
       "      <td>[område, køn, alder, herkomst, oprindelsesland...</td>\n",
       "    </tr>\n",
       "    <tr>\n",
       "      <th>3</th>\n",
       "      <td>FOLK1D</td>\n",
       "      <td>Folketal den 1. i kvartalet</td>\n",
       "      <td>antal</td>\n",
       "      <td>2020-08-11T08:00:00</td>\n",
       "      <td>2008K1</td>\n",
       "      <td>2020K3</td>\n",
       "      <td>True</td>\n",
       "      <td>[område, køn, alder, statsborgerskab, tid]</td>\n",
       "    </tr>\n",
       "    <tr>\n",
       "      <th>4</th>\n",
       "      <td>FOLK1E</td>\n",
       "      <td>Folketal den 1. i kvartalet</td>\n",
       "      <td>antal</td>\n",
       "      <td>2020-08-11T08:00:00</td>\n",
       "      <td>2008K1</td>\n",
       "      <td>2020K3</td>\n",
       "      <td>True</td>\n",
       "      <td>[område, køn, alder, herkomst, tid]</td>\n",
       "    </tr>\n",
       "    <tr>\n",
       "      <th>5</th>\n",
       "      <td>FOLK2</td>\n",
       "      <td>Folketal 1. januar</td>\n",
       "      <td>antal</td>\n",
       "      <td>2020-02-11T08:00:00</td>\n",
       "      <td>1980</td>\n",
       "      <td>2020</td>\n",
       "      <td>True</td>\n",
       "      <td>[alder, køn, herkomst, statsborgerskab, oprind...</td>\n",
       "    </tr>\n",
       "    <tr>\n",
       "      <th>6</th>\n",
       "      <td>FOLK3</td>\n",
       "      <td>Folketal 1. januar</td>\n",
       "      <td>antal</td>\n",
       "      <td>2020-02-11T08:00:00</td>\n",
       "      <td>2008</td>\n",
       "      <td>2020</td>\n",
       "      <td>True</td>\n",
       "      <td>[fødselsdag, fødselsmåned, fødselsår, tid]</td>\n",
       "    </tr>\n",
       "    <tr>\n",
       "      <th>7</th>\n",
       "      <td>FT</td>\n",
       "      <td>Folketal (summariske tal fra folketællinger)</td>\n",
       "      <td>antal</td>\n",
       "      <td>2020-02-11T08:00:00</td>\n",
       "      <td>1769</td>\n",
       "      <td>2020</td>\n",
       "      <td>True</td>\n",
       "      <td>[hovedlandsdele, tid]</td>\n",
       "    </tr>\n",
       "    <tr>\n",
       "      <th>8</th>\n",
       "      <td>BEF5F</td>\n",
       "      <td>Personer født på Færøerne og bosat i Danmark 1...</td>\n",
       "      <td>antal</td>\n",
       "      <td>2020-02-11T08:00:00</td>\n",
       "      <td>2008</td>\n",
       "      <td>2020</td>\n",
       "      <td>True</td>\n",
       "      <td>[køn, alder, forældrenes fødested, tid]</td>\n",
       "    </tr>\n",
       "    <tr>\n",
       "      <th>9</th>\n",
       "      <td>BEF5G</td>\n",
       "      <td>Personer født i Grønland og bosat i Danmark 1....</td>\n",
       "      <td>antal</td>\n",
       "      <td>2020-02-11T08:00:00</td>\n",
       "      <td>2008</td>\n",
       "      <td>2020</td>\n",
       "      <td>True</td>\n",
       "      <td>[køn, alder, forældrenes fødested, tid]</td>\n",
       "    </tr>\n",
       "    <tr>\n",
       "      <th>10</th>\n",
       "      <td>BEF5</td>\n",
       "      <td>Folketal pr. 1. januar</td>\n",
       "      <td>antal</td>\n",
       "      <td>2020-02-11T08:00:00</td>\n",
       "      <td>1990</td>\n",
       "      <td>2020</td>\n",
       "      <td>True</td>\n",
       "      <td>[køn, alder, fødeland, tid]</td>\n",
       "    </tr>\n",
       "    <tr>\n",
       "      <th>11</th>\n",
       "      <td>BY3</td>\n",
       "      <td>Folketal 1. januar</td>\n",
       "      <td>-</td>\n",
       "      <td>2020-06-11T08:00:00</td>\n",
       "      <td>2017</td>\n",
       "      <td>2020</td>\n",
       "      <td>True</td>\n",
       "      <td>[byområder og landdistrikter, folketal, areal ...</td>\n",
       "    </tr>\n",
       "    <tr>\n",
       "      <th>12</th>\n",
       "      <td>BY1</td>\n",
       "      <td>Folketal 1. januar</td>\n",
       "      <td>antal</td>\n",
       "      <td>2020-04-29T08:00:00</td>\n",
       "      <td>2010</td>\n",
       "      <td>2020</td>\n",
       "      <td>True</td>\n",
       "      <td>[byområder og landdistrikter, alder, køn, tid]</td>\n",
       "    </tr>\n",
       "    <tr>\n",
       "      <th>13</th>\n",
       "      <td>BY4</td>\n",
       "      <td>Husstande 1. januar</td>\n",
       "      <td>antal</td>\n",
       "      <td>2020-04-29T08:00:00</td>\n",
       "      <td>2010</td>\n",
       "      <td>2020</td>\n",
       "      <td>True</td>\n",
       "      <td>[byområder og landdistrikter, husstandstype, a...</td>\n",
       "    </tr>\n",
       "    <tr>\n",
       "      <th>14</th>\n",
       "      <td>BY2</td>\n",
       "      <td>Folketal 1. januar</td>\n",
       "      <td>antal</td>\n",
       "      <td>2020-04-29T08:00:00</td>\n",
       "      <td>2010</td>\n",
       "      <td>2020</td>\n",
       "      <td>True</td>\n",
       "      <td>[kommune, bystørrelse, alder, køn, tid]</td>\n",
       "    </tr>\n",
       "    <tr>\n",
       "      <th>15</th>\n",
       "      <td>BEF4</td>\n",
       "      <td>Folketal 1. januar</td>\n",
       "      <td>antal</td>\n",
       "      <td>2020-04-01T08:00:00</td>\n",
       "      <td>1901</td>\n",
       "      <td>2020</td>\n",
       "      <td>True</td>\n",
       "      <td>[øer, tid]</td>\n",
       "    </tr>\n",
       "    <tr>\n",
       "      <th>16</th>\n",
       "      <td>HISB3</td>\n",
       "      <td>Nøgletal om befolkningen</td>\n",
       "      <td>antal</td>\n",
       "      <td>2020-02-13T08:00:00</td>\n",
       "      <td>1901</td>\n",
       "      <td>2020</td>\n",
       "      <td>True</td>\n",
       "      <td>[bevægelsesart, tid]</td>\n",
       "    </tr>\n",
       "    <tr>\n",
       "      <th>17</th>\n",
       "      <td>BEV22</td>\n",
       "      <td>Befolkningens udvikling (foreløbig opgørelse)</td>\n",
       "      <td>antal</td>\n",
       "      <td>2020-08-11T08:00:00</td>\n",
       "      <td>2007K2</td>\n",
       "      <td>2020K2</td>\n",
       "      <td>True</td>\n",
       "      <td>[område, bevægelsesart, køn, tid]</td>\n",
       "    </tr>\n",
       "    <tr>\n",
       "      <th>18</th>\n",
       "      <td>BEV107</td>\n",
       "      <td>Befolkningens udvikling</td>\n",
       "      <td>antal</td>\n",
       "      <td>2020-02-11T08:00:00</td>\n",
       "      <td>2006</td>\n",
       "      <td>2019</td>\n",
       "      <td>True</td>\n",
       "      <td>[område, bevægelsesart, køn, tid]</td>\n",
       "    </tr>\n",
       "    <tr>\n",
       "      <th>19</th>\n",
       "      <td>GALDER</td>\n",
       "      <td>Gennemsnitsalder</td>\n",
       "      <td>gns.</td>\n",
       "      <td>2020-02-11T08:00:00</td>\n",
       "      <td>2005</td>\n",
       "      <td>2020</td>\n",
       "      <td>True</td>\n",
       "      <td>[kommune, køn, tid]</td>\n",
       "    </tr>\n",
       "  </tbody>\n",
       "</table>\n",
       "</div>"
      ],
      "text/plain": [
       "        id                                               text   unit  \\\n",
       "0   FOLK1A                        Folketal den 1. i kvartalet  antal   \n",
       "1   FOLK1B                        Folketal den 1. i kvartalet  antal   \n",
       "2   FOLK1C                        Folketal den 1. i kvartalet  antal   \n",
       "3   FOLK1D                        Folketal den 1. i kvartalet  antal   \n",
       "4   FOLK1E                        Folketal den 1. i kvartalet  antal   \n",
       "5    FOLK2                                 Folketal 1. januar  antal   \n",
       "6    FOLK3                                 Folketal 1. januar  antal   \n",
       "7       FT       Folketal (summariske tal fra folketællinger)  antal   \n",
       "8    BEF5F  Personer født på Færøerne og bosat i Danmark 1...  antal   \n",
       "9    BEF5G  Personer født i Grønland og bosat i Danmark 1....  antal   \n",
       "10    BEF5                             Folketal pr. 1. januar  antal   \n",
       "11     BY3                                 Folketal 1. januar      -   \n",
       "12     BY1                                 Folketal 1. januar  antal   \n",
       "13     BY4                                Husstande 1. januar  antal   \n",
       "14     BY2                                 Folketal 1. januar  antal   \n",
       "15    BEF4                                 Folketal 1. januar  antal   \n",
       "16   HISB3                           Nøgletal om befolkningen  antal   \n",
       "17   BEV22      Befolkningens udvikling (foreløbig opgørelse)  antal   \n",
       "18  BEV107                            Befolkningens udvikling  antal   \n",
       "19  GALDER                                   Gennemsnitsalder   gns.   \n",
       "\n",
       "                updated firstPeriod latestPeriod  active  \\\n",
       "0   2020-08-11T08:00:00      2008K1       2020K3    True   \n",
       "1   2020-08-11T08:00:00      2008K1       2020K3    True   \n",
       "2   2020-08-11T08:00:00      2008K1       2020K3    True   \n",
       "3   2020-08-11T08:00:00      2008K1       2020K3    True   \n",
       "4   2020-08-11T08:00:00      2008K1       2020K3    True   \n",
       "5   2020-02-11T08:00:00        1980         2020    True   \n",
       "6   2020-02-11T08:00:00        2008         2020    True   \n",
       "7   2020-02-11T08:00:00        1769         2020    True   \n",
       "8   2020-02-11T08:00:00        2008         2020    True   \n",
       "9   2020-02-11T08:00:00        2008         2020    True   \n",
       "10  2020-02-11T08:00:00        1990         2020    True   \n",
       "11  2020-06-11T08:00:00        2017         2020    True   \n",
       "12  2020-04-29T08:00:00        2010         2020    True   \n",
       "13  2020-04-29T08:00:00        2010         2020    True   \n",
       "14  2020-04-29T08:00:00        2010         2020    True   \n",
       "15  2020-04-01T08:00:00        1901         2020    True   \n",
       "16  2020-02-13T08:00:00        1901         2020    True   \n",
       "17  2020-08-11T08:00:00      2007K2       2020K2    True   \n",
       "18  2020-02-11T08:00:00        2006         2019    True   \n",
       "19  2020-02-11T08:00:00        2005         2020    True   \n",
       "\n",
       "                                            variables  \n",
       "0               [område, køn, alder, civilstand, tid]  \n",
       "1          [område, køn, alder, statsborgerskab, tid]  \n",
       "2   [område, køn, alder, herkomst, oprindelsesland...  \n",
       "3          [område, køn, alder, statsborgerskab, tid]  \n",
       "4                 [område, køn, alder, herkomst, tid]  \n",
       "5   [alder, køn, herkomst, statsborgerskab, oprind...  \n",
       "6          [fødselsdag, fødselsmåned, fødselsår, tid]  \n",
       "7                               [hovedlandsdele, tid]  \n",
       "8             [køn, alder, forældrenes fødested, tid]  \n",
       "9             [køn, alder, forældrenes fødested, tid]  \n",
       "10                        [køn, alder, fødeland, tid]  \n",
       "11  [byområder og landdistrikter, folketal, areal ...  \n",
       "12     [byområder og landdistrikter, alder, køn, tid]  \n",
       "13  [byområder og landdistrikter, husstandstype, a...  \n",
       "14            [kommune, bystørrelse, alder, køn, tid]  \n",
       "15                                         [øer, tid]  \n",
       "16                               [bevægelsesart, tid]  \n",
       "17                  [område, bevægelsesart, køn, tid]  \n",
       "18                  [område, bevægelsesart, køn, tid]  \n",
       "19                                [kommune, køn, tid]  "
      ]
     },
     "execution_count": 1,
     "metadata": {},
     "output_type": "execute_result"
    }
   ],
   "source": [
    "import pandas as pd \n",
    "url = 'https://api.statbank.dk/v1/tables'\n",
    "dst = pd.read_json(url)\n",
    "dst.to_csv('dk-stat-all-tables.csv', encoding='utf-8', index=False)\n",
    "dst[:20]"
   ]
  },
  {
   "cell_type": "markdown",
   "metadata": {},
   "source": [
    "A)"
   ]
  },
  {
   "cell_type": "code",
   "execution_count": 2,
   "metadata": {},
   "outputs": [
    {
     "name": "stdout",
     "output_type": "stream",
     "text": [
      "  CIVILSTAND       OMRÅDE    KØN     TID  INDHOLD\n",
      "0   Fraskilt  Hele landet  I alt  2008K4   432156\n",
      "1   Fraskilt  Hele landet  I alt  2020K3   550715\n",
      "Change in percent between 2008 and 2020 is: 27.43\n"
     ]
    }
   ],
   "source": [
    "data2008And2020 = pd.read_csv('https://api.statbank.dk/v1/data/FOLK1A/CSV?delimiter=Semicolon&CIVILSTAND=F&OMR%C3%85DE=000&K%C3%98N=TOT&Tid=2020K3%2C2008K4', sep=';')\n",
    "print(data2008And2020)\n",
    "d2008 = data2008And2020.iloc[0,4]\n",
    "d2020 = data2008And2020.iloc[1,4]\n",
    "result = round(((d2020/d2008)-1)*100,2)\n",
    "print('Change in percent between 2008 and 2020 is: ' + str(result))"
   ]
  },
  {
   "cell_type": "markdown",
   "metadata": {},
   "source": [
    "B)"
   ]
  },
  {
   "cell_type": "code",
   "execution_count": 3,
   "metadata": {},
   "outputs": [
    {
     "name": "stdout",
     "output_type": "stream",
     "text": [
      "change in percent between 2008 and 2020 is: 27.43\n"
     ]
    }
   ],
   "source": [
    "result = round(((d2020/d2008)-1)*100,2)\n",
    "print('change in percent between 2008 and 2020 is: ' + str(result))"
   ]
  },
  {
   "cell_type": "code",
   "execution_count": 4,
   "metadata": {},
   "outputs": [
    {
     "name": "stdout",
     "output_type": "stream",
     "text": [
      "    CIVILSTAND     TID    KØN     OMRÅDE  INDHOLD\n",
      "2        I alt  2020K3  I alt  København   633035\n",
      "84       I alt  2020K3  I alt     Aarhus   349433\n",
      "104      I alt  2020K3  I alt    Aalborg   217316\n",
      "58       I alt  2020K3  I alt     Odense   204718\n",
      "71       I alt  2020K3  I alt      Vejle   116468\n"
     ]
    }
   ],
   "source": [
    "dataOpgB = pd.read_csv('https://api.statbank.dk/v1/data/FOLK1A/CSV?delimiter=Semicolon&CIVILSTAND=TOT&Tid=2020K3&K%C3%98N=TOT&OMR%C3%85DE=*', sep=';')\n",
    "alldata = dataOpgB.sort_values(by=['INDHOLD'],ascending = False)\n",
    "citydata = alldata[alldata.OMRÅDE.str.contains('Region')==False]\n",
    "citydata = citydata[citydata.OMRÅDE.str.contains('Hele landet')==False] [:5]\n",
    "print(citydata)"
   ]
  },
  {
   "cell_type": "code",
   "execution_count": 44,
   "metadata": {},
   "outputs": [
    {
     "name": "stdout",
     "output_type": "stream",
     "text": [
      "Vinderen er: København med 65.43%\n"
     ]
    }
   ],
   "source": [
    "unmarrieddata = pd.read_csv('https://api.statbank.dk/v1/data/FOLK1A/CSV?delimiter=Semicolon&OMR%C3%85DE=*&K%C3%98N=TOT&CIVILSTAND=U&Tid=2020K3', sep=';')\n",
    "Ualldata = unmarrieddata.sort_values(by=['INDHOLD'],ascending = False)\n",
    "Ucitydata = Ualldata[Ualldata.OMRÅDE.str.contains('Region')==False]\n",
    "Ucitydata = Ucitydata[Ucitydata.OMRÅDE.str.contains('Hele landet')==False] [:10]\n",
    "\n",
    "\n",
    "\n",
    "fivebig = []\n",
    "for i in range(5) :\n",
    "    fivebig.append([citydata.iloc[i,3], citydata.iloc[i,4] ])\n",
    "\n",
    "\n",
    "liste = []\n",
    "resultProcent = 0 \n",
    "resultCity =\"\"\n",
    "for i in fivebig:\n",
    "    city = i \n",
    "   # print(city)\n",
    "    a = int(Ucitydata[Ucitydata[:][\"OMRÅDE\"] == (city[0])][\"INDHOLD\"])\n",
    "  \n",
    "    #print(city)\n",
    "    result = round(((a/city[1]))*100,2)\n",
    "    if result > resultProcent: \n",
    "        resultProcent = result\n",
    "        resultCity = city[0]\n",
    "    \n",
    "    city.append(result)\n",
    "    liste.append(result)\n",
    "\n",
    "print(\"Vinderen er: \"+resultCity+ \" med \" +str(resultProcent)+\"%\")\n"
   ]
  },
  {
   "cell_type": "markdown",
   "metadata": {},
   "source": [
    "C)"
   ]
  },
  {
   "cell_type": "code",
   "execution_count": 52,
   "metadata": {},
   "outputs": [],
   "source": [
    "Cdata = pd.read_csv(\"https://api.statbank.dk/v1/data/FOLK1A/CSV?delimiter=Semicolon&Tid=2008K1%2C2009K1%2C2010K1%2C2011K1%2C2012K1%2C2013K1%2C2014K1%2C2015K1%2C2016K1%2C2017K1%2C2018K1%2C2019K1%2C2020K1&CIVILSTAND=G&OMR%C3%85DE=101\", sep=\";\")\n",
    "\n"
   ]
  },
  {
   "cell_type": "code",
   "execution_count": 55,
   "metadata": {},
   "outputs": [
    {
     "name": "stdout",
     "output_type": "stream",
     "text": [
      "       TID      CIVILSTAND     OMRÅDE  INDHOLD\n",
      "0   2008K1  Gift/separeret  København   128556\n",
      "1   2009K1  Gift/separeret  København   130995\n",
      "2   2010K1  Gift/separeret  København   133196\n",
      "3   2011K1  Gift/separeret  København   135422\n",
      "4   2012K1  Gift/separeret  København   136827\n",
      "5   2013K1  Gift/separeret  København   138132\n",
      "6   2014K1  Gift/separeret  København   138830\n",
      "7   2015K1  Gift/separeret  København   139613\n",
      "8   2016K1  Gift/separeret  København   140881\n",
      "9   2017K1  Gift/separeret  København   143176\n",
      "10  2018K1  Gift/separeret  København   145479\n",
      "11  2019K1  Gift/separeret  København   147974\n",
      "12  2020K1  Gift/separeret  København   150458\n"
     ]
    },
    {
     "data": {
      "text/plain": [
       "(125000.0, 155000.0)"
      ]
     },
     "execution_count": 55,
     "metadata": {},
     "output_type": "execute_result"
    },
    {
     "data": {
      "image/png": "[encoded data removed]",
      "text/plain": [
       "<Figure size 432x288 with 1 Axes>"
      ]
     },
     "metadata": {
      "needs_background": "light"
     },
     "output_type": "display_data"
    }
   ],
   "source": [
    "import matplotlib.pyplot as plt\n",
    "print(Cdata)\n",
    "\n",
    "Cdata.plot(kind=\"bar\", x=\"TID\", y=\"INDHOLD\")\n",
    "plt.ylim(125000,155000)\n"
   ]
  },
  {
   "cell_type": "code",
   "execution_count": 56,
   "metadata": {},
   "outputs": [],
   "source": [
    "dData= pd.read_csv(\"https://api.statbank.dk/v1/data/FOLK1A/CSV?delimiter=Semicolon&CIVILSTAND=G%2CU&ALDER=*&Tid=2020K3\", sep=\";\")"
   ]
  },
  {
   "cell_type": "code",
   "execution_count": 57,
   "metadata": {},
   "outputs": [
    {
     "name": "stdout",
     "output_type": "stream",
     "text": [
      "         CIVILSTAND   ALDER     TID  INDHOLD\n",
      "0    Gift/separeret   I alt  2020K3  2132092\n",
      "1    Gift/separeret    0 år  2020K3        0\n",
      "2    Gift/separeret    1 år  2020K3        0\n",
      "3    Gift/separeret    2 år  2020K3        0\n",
      "4    Gift/separeret    3 år  2020K3        0\n",
      "..              ...     ...     ...      ...\n",
      "249           Ugift  121 år  2020K3        0\n",
      "250           Ugift  122 år  2020K3        0\n",
      "251           Ugift  123 år  2020K3        0\n",
      "252           Ugift  124 år  2020K3        0\n",
      "253           Ugift  125 år  2020K3        0\n",
      "\n",
      "[254 rows x 4 columns]\n"
     ]
    }
   ],
   "source": [
    "print(dData)"
   ]
  },
  {
   "cell_type": "code",
   "execution_count": 68,
   "metadata": {},
   "outputs": [
    {
     "data": {
      "text/plain": [
       "(0.0, 100.0)"
      ]
     },
     "execution_count": 68,
     "metadata": {},
     "output_type": "execute_result"
    },
    {
     "data": {
      "image/png": "[encoded data removed]",
      "text/plain": [
       "<Figure size 1440x576 with 1 Axes>"
      ]
     },
     "metadata": {
      "needs_background": "light"
     },
     "output_type": "display_data"
    }
   ],
   "source": [
    "gift = dData[(dData[:][\"CIVILSTAND\"].str.contains('Gift'))&(dData[:][\"ALDER\"] != 'I alt')].reset_index(drop=True)\n",
    "ugift = dData[(dData[:][\"CIVILSTAND\"].str.contains('Ugift'))&(dData[:][\"ALDER\"] != 'I alt')].reset_index(drop=True)\n",
    "\n",
    "\n",
    "data = pd.concat([ugift, gift], axis=1, keys=['Ugift','Gift/separeret'])\n",
    "\n",
    "\n",
    "data.plot(kind=\"bar\", figsize=(20,8))\n",
    "plt.xlim(0,100)\n",
    "\n",
    "\n"
   ]
  },
  {
   "cell_type": "code",
   "execution_count": null,
   "metadata": {},
   "outputs": [],
   "source": []
  },
  {
   "cell_type": "code",
   "execution_count": null,
   "metadata": {},
   "outputs": [],
   "source": []
  },
  {
   "cell_type": "code",
   "execution_count": null,
   "metadata": {},
   "outputs": [],
   "source": []
  },
  {
   "cell_type": "code",
   "execution_count": null,
   "metadata": {},
   "outputs": [],
   "source": []
  },
  {
   "cell_type": "code",
   "execution_count": null,
   "metadata": {},
   "outputs": [],
   "source": []
  },
  {
   "cell_type": "code",
   "execution_count": null,
   "metadata": {},
   "outputs": [],
   "source": []
  },
  {
   "cell_type": "code",
   "execution_count": null,
   "metadata": {},
   "outputs": [],
   "source": []
  },
  {
   "cell_type": "code",
   "execution_count": null,
   "metadata": {},
   "outputs": [],
   "source": []
  },
  {
   "cell_type": "code",
   "execution_count": null,
   "metadata": {},
   "outputs": [],
   "source": []
  },
  {
   "cell_type": "code",
   "execution_count": null,
   "metadata": {},
   "outputs": [],
   "source": []
  }
 ],
 "metadata": {
  "kernelspec": {
   "display_name": "Python 3",
   "language": "python",
   "name": "python3"
  },
  "language_info": {
   "codemirror_mode": {
    "name": "ipython",
    "version": 3
   },
   "file_extension": ".py",
   "mimetype": "text/x-python",
   "name": "python",
   "nbconvert_exporter": "python",
   "pygments_lexer": "ipython3",
   "version": "3.7.6"
  }
 },
 "nbformat": 4,
 "nbformat_minor": 4
}
