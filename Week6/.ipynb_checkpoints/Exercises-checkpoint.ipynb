{
 "cells": [
  {
   "cell_type": "markdown",
   "metadata": {},
   "source": [
    "# Handin Exercise 6\n",
    "\n",
    "Create a module containing a class with the following methods:\n",
    "1. __init__(self, url_list)\n",
    "2. download(url,filename) raises NotFoundException when url returns 404\n",
    "3. multi_download() uses threads to download multiple urls as text and stores filenames as a property\n",
    "4. __iter__() returns an iterator\n",
    "5. __next__() returns the next filename (and stops when there are no more)\n",
    "6. urllist_generator() returns a generator to loop through the urls\n",
    "7. avg_vowels(text) - a rough estimate on readability returns average number of vowels in the words of the text\n",
    "8. hardest_read() returns the filename of the text with the highest vowel score (use all the cpu cores on the computer for this work."
   ]
  },
  {
   "cell_type": "code",
   "execution_count": 39,
   "metadata": {},
   "outputs": [],
   "source": [
    "\n",
    "from concurrent.futures import ProcessPoolExecutor\n",
    "from concurrent.futures import ThreadPoolExecutor\n",
    "#from modules import webget\n",
    "import glob\n",
    "import multiprocessing\n",
    "import time\n",
    "import requests\n",
    "import os\n"
   ]
  },
  {
   "cell_type": "code",
   "execution_count": 47,
   "metadata": {},
   "outputs": [],
   "source": [
    "\n",
    "\n",
    "class book_reader():\n",
    "    def __init__(self, url_list, filenames):\n",
    "        self.url_list = url_list\n",
    "        self.filenames = filenames\n",
    "\n",
    "    def __iter__(self, start = 0 ):\n",
    "        self.count = start \n",
    "\n",
    "    def __next__(self):\n",
    "        \"Return the next filename (stops when no more)\"\n",
    "        if self.count < len(self.url_list): \n",
    "            self.count +=1\n",
    "            return self.url_list(self.count-1)\n",
    "        else: \n",
    "            raise StopIteration\n",
    "        \n",
    "    def urllist_generator(self):\n",
    "        for url in self.url_list: \n",
    "            yield url\n",
    "\n",
    "    def download(self, url, filename):\n",
    "        \"Downloads from the url, to the file specified. Throws NotFoundException if 404\"\n",
    "        r = requests.get(url)\n",
    "        if(r.status_code == 404):\n",
    "            raise Exception('URL ' + url + \" NOT FOUND\")\n",
    "        #print('',r.json()['url'])\n",
    "        open('./downloads/' + filename + \".txt\", 'wb').write(r.content)\n",
    "\n",
    "    def multi_download(self):\n",
    "        \"\"\"Uses threads to download multiple urls as text and stores filenames as a property.\"\"\"\n",
    "        pool = ThreadPoolExecutor(len(self.url_list))\n",
    "        pool.map(lambda x, y: self.download(x, y),\n",
    "                 self.url_list, self.filenames)\n",
    "        \n",
    "    def urllist_generator(self):\n",
    "        \"\"\"Returns a generator to loop through the urls\"\"\"\n",
    "        for url in self.url_list:\n",
    "            yield (url)\n",
    "\n",
    "    def avg_vowels(self, text):\n",
    "        \"\"\"Rough estimate on readability - avg number of vowels in the words of the text\"\"\"\n",
    "        vowels = \"AaEeIiOoUu\"\n",
    "        count = len([char for char in text if char in vowels])\n",
    "        return count\n",
    "\n",
    "    def calc_readability(self):\n",
    "        \"\"\"Calculates readablility and returns a sorted list of tuples of (bookid, avg_vowels)\"\"\"\n",
    "        with ProcessPoolExecutor(multiprocessing.cpu_count()) as ex:\n",
    "            results = list(ex.map(self.avg_vowels, self.filenames))\n",
    "        return sorted(results, key=lambda x: x[1], reverse=True)\n",
    "\n",
    "    def hardest_read(self):\n",
    "        results = self.calc_readability()\n",
    "        book_ids = list(zip(*results))[0]\n",
    "        readability = list(zip(*results))[1]\n",
    "        plt.barh(book_ids, readability)\n",
    "        plt.grid(axis='x')\n",
    "        plt.ylabel(\"Book IDs\")\n",
    "        plt.xlabel(\"Readablilty (Avg vowels pr. word)\")\n",
    "        plt.show()\n",
    "    def hardest_read_multiprocess(self):\n",
    "        return self.calc_readability()[0]\n",
    "\n",
    "    def plot_hardest_read(self):\n",
    "        results = self.calc_readability()\n",
    "        book_ids = list(zip(*results))[0]\n",
    "        readability = list(zip(*results))[1]\n",
    "        plt.barh(book_ids, readability)\n",
    "        plt.grid(axis='x')\n",
    "        plt.ylabel(\"Book IDs\")\n",
    "        plt.xlabel(\"Readablilty (Avg vowels pr. word)\")\n",
    "        plt.show()"
   ]
  },
  {
   "cell_type": "code",
   "execution_count": 51,
   "metadata": {},
   "outputs": [
    {
     "ename": "TypeError",
     "evalue": "'int' object is not subscriptable",
     "output_type": "error",
     "traceback": [
      "\u001b[0;31m---------------------------------------------------------------------------\u001b[0m",
      "\u001b[0;31mTypeError\u001b[0m                                 Traceback (most recent call last)",
      "\u001b[0;32m<ipython-input-51-422f8f80ccb6>\u001b[0m in \u001b[0;36m<module>\u001b[0;34m\u001b[0m\n\u001b[1;32m     17\u001b[0m \u001b[0;34m\u001b[0m\u001b[0m\n\u001b[1;32m     18\u001b[0m \u001b[0;34m\u001b[0m\u001b[0m\n\u001b[0;32m---> 19\u001b[0;31m     \u001b[0mhardest_books\u001b[0m \u001b[0;34m=\u001b[0m \u001b[0mbookdata\u001b[0m\u001b[0;34m.\u001b[0m\u001b[0mhardest_read\u001b[0m\u001b[0;34m(\u001b[0m\u001b[0;34m)\u001b[0m\u001b[0;34m\u001b[0m\u001b[0;34m\u001b[0m\u001b[0m\n\u001b[0m\u001b[1;32m     20\u001b[0m \u001b[0;34m\u001b[0m\u001b[0m\n\u001b[1;32m     21\u001b[0m \u001b[0;34m\u001b[0m\u001b[0m\n",
      "\u001b[0;32m<ipython-input-47-9d87015b670d>\u001b[0m in \u001b[0;36mhardest_read\u001b[0;34m(self)\u001b[0m\n\u001b[1;32m     53\u001b[0m         \u001b[0;34m\"\"\"Return the name of the file with the highest vowel score (using all cpu cores)\"\"\"\u001b[0m\u001b[0;34m\u001b[0m\u001b[0;34m\u001b[0m\u001b[0m\n\u001b[1;32m     54\u001b[0m         \u001b[0mavg_vowels\u001b[0m \u001b[0;34m=\u001b[0m \u001b[0;34m[\u001b[0m\u001b[0mself\u001b[0m\u001b[0;34m.\u001b[0m\u001b[0mavg_vowels\u001b[0m\u001b[0;34m(\u001b[0m\u001b[0mfile\u001b[0m\u001b[0;34m)\u001b[0m \u001b[0;32mfor\u001b[0m \u001b[0mfile\u001b[0m \u001b[0;32min\u001b[0m \u001b[0mself\u001b[0m\u001b[0;34m.\u001b[0m\u001b[0mfilenames\u001b[0m\u001b[0;34m]\u001b[0m\u001b[0;34m\u001b[0m\u001b[0;34m\u001b[0m\u001b[0m\n\u001b[0;32m---> 55\u001b[0;31m         \u001b[0;32mreturn\u001b[0m \u001b[0msorted\u001b[0m\u001b[0;34m(\u001b[0m\u001b[0mavg_vowels\u001b[0m\u001b[0;34m,\u001b[0m \u001b[0mkey\u001b[0m\u001b[0;34m=\u001b[0m\u001b[0;32mlambda\u001b[0m \u001b[0mx\u001b[0m\u001b[0;34m:\u001b[0m \u001b[0mx\u001b[0m\u001b[0;34m[\u001b[0m\u001b[0;36m1\u001b[0m\u001b[0;34m]\u001b[0m\u001b[0;34m,\u001b[0m \u001b[0mreverse\u001b[0m\u001b[0;34m=\u001b[0m\u001b[0;32mTrue\u001b[0m\u001b[0;34m)\u001b[0m\u001b[0;34m[\u001b[0m\u001b[0;36m0\u001b[0m\u001b[0;34m]\u001b[0m\u001b[0;34m\u001b[0m\u001b[0;34m\u001b[0m\u001b[0m\n\u001b[0m\u001b[1;32m     56\u001b[0m \u001b[0;34m\u001b[0m\u001b[0m\n\u001b[1;32m     57\u001b[0m     \u001b[0;32mdef\u001b[0m \u001b[0mhardest_read_multiprocess\u001b[0m\u001b[0;34m(\u001b[0m\u001b[0mself\u001b[0m\u001b[0;34m)\u001b[0m\u001b[0;34m:\u001b[0m\u001b[0;34m\u001b[0m\u001b[0;34m\u001b[0m\u001b[0m\n",
      "\u001b[0;32m<ipython-input-47-9d87015b670d>\u001b[0m in \u001b[0;36m<lambda>\u001b[0;34m(x)\u001b[0m\n\u001b[1;32m     53\u001b[0m         \u001b[0;34m\"\"\"Return the name of the file with the highest vowel score (using all cpu cores)\"\"\"\u001b[0m\u001b[0;34m\u001b[0m\u001b[0;34m\u001b[0m\u001b[0m\n\u001b[1;32m     54\u001b[0m         \u001b[0mavg_vowels\u001b[0m \u001b[0;34m=\u001b[0m \u001b[0;34m[\u001b[0m\u001b[0mself\u001b[0m\u001b[0;34m.\u001b[0m\u001b[0mavg_vowels\u001b[0m\u001b[0;34m(\u001b[0m\u001b[0mfile\u001b[0m\u001b[0;34m)\u001b[0m \u001b[0;32mfor\u001b[0m \u001b[0mfile\u001b[0m \u001b[0;32min\u001b[0m \u001b[0mself\u001b[0m\u001b[0;34m.\u001b[0m\u001b[0mfilenames\u001b[0m\u001b[0;34m]\u001b[0m\u001b[0;34m\u001b[0m\u001b[0;34m\u001b[0m\u001b[0m\n\u001b[0;32m---> 55\u001b[0;31m         \u001b[0;32mreturn\u001b[0m \u001b[0msorted\u001b[0m\u001b[0;34m(\u001b[0m\u001b[0mavg_vowels\u001b[0m\u001b[0;34m,\u001b[0m \u001b[0mkey\u001b[0m\u001b[0;34m=\u001b[0m\u001b[0;32mlambda\u001b[0m \u001b[0mx\u001b[0m\u001b[0;34m:\u001b[0m \u001b[0mx\u001b[0m\u001b[0;34m[\u001b[0m\u001b[0;36m1\u001b[0m\u001b[0;34m]\u001b[0m\u001b[0;34m,\u001b[0m \u001b[0mreverse\u001b[0m\u001b[0;34m=\u001b[0m\u001b[0;32mTrue\u001b[0m\u001b[0;34m)\u001b[0m\u001b[0;34m[\u001b[0m\u001b[0;36m0\u001b[0m\u001b[0;34m]\u001b[0m\u001b[0;34m\u001b[0m\u001b[0;34m\u001b[0m\u001b[0m\n\u001b[0m\u001b[1;32m     56\u001b[0m \u001b[0;34m\u001b[0m\u001b[0m\n\u001b[1;32m     57\u001b[0m     \u001b[0;32mdef\u001b[0m \u001b[0mhardest_read_multiprocess\u001b[0m\u001b[0;34m(\u001b[0m\u001b[0mself\u001b[0m\u001b[0;34m)\u001b[0m\u001b[0;34m:\u001b[0m\u001b[0;34m\u001b[0m\u001b[0;34m\u001b[0m\u001b[0m\n",
      "\u001b[0;31mTypeError\u001b[0m: 'int' object is not subscriptable"
     ]
    }
   ],
   "source": [
    "if __name__ == \"__main__\":\n",
    "    urls = ['https://www.gutenberg.org/files/1342/1342-0.txt',\n",
    "            'https://www.gutenberg.org/files/11/11-0.txt',\n",
    "            'http://www.gutenberg.org/cache/epub/1497/pg1497.txt',\n",
    "\n",
    "            ]\n",
    "    filenames = [\n",
    "        'Pride and Prejudice',\n",
    "        'Alice’s Adventures in Wonderland',\n",
    "         'The Republic'\n",
    "    ]\n",
    "\n",
    "    bookdata = book_reader(urls, filenames)\n",
    "    bookdata.multi_download()\n",
    "\n",
    "    start = time.perf_counter()\n",
    "    \n",
    "    \n",
    "    hardest_books = bookdata.hardest_read()\n",
    "    \n",
    "    \n",
    "    #print(hardest_books)\n",
    "  \n",
    "\n",
    "    #print(book_reader.hardest_read())\n",
    "    #finish = time.perf_counter()\n",
    "    #print(f'Finished in {round(finish-start, 2)} seconds')\n",
    "\n",
    "    #start = time.perf_counter()\n",
    "    #print(book_reader.hardest_read_multiprocess())\n",
    "    finish = time.perf_counter()\n",
    "    #print(f'Finished in {round(finish-start, 2)} seconds')\n",
    "\n",
    "    #book_reader.plot_hardest_read()"
   ]
  },
  {
   "cell_type": "code",
   "execution_count": null,
   "metadata": {},
   "outputs": [],
   "source": []
  },
  {
   "cell_type": "code",
   "execution_count": null,
   "metadata": {},
   "outputs": [],
   "source": []
  },
  {
   "cell_type": "code",
   "execution_count": null,
   "metadata": {},
   "outputs": [],
   "source": []
  },
  {
   "cell_type": "code",
   "execution_count": null,
   "metadata": {},
   "outputs": [],
   "source": []
  },
  {
   "cell_type": "code",
   "execution_count": null,
   "metadata": {},
   "outputs": [],
   "source": []
  },
  {
   "cell_type": "code",
   "execution_count": null,
   "metadata": {},
   "outputs": [],
   "source": []
  },
  {
   "cell_type": "code",
   "execution_count": null,
   "metadata": {},
   "outputs": [],
   "source": []
  }
 ],
 "metadata": {
  "kernelspec": {
   "display_name": "Python 3",
   "language": "python",
   "name": "python3"
  },
  "language_info": {
   "codemirror_mode": {
    "name": "ipython",
    "version": 3
   },
   "file_extension": ".py",
   "mimetype": "text/x-python",
   "name": "python",
   "nbconvert_exporter": "python",
   "pygments_lexer": "ipython3",
   "version": "3.7.6"
  }
 },
 "nbformat": 4,
 "nbformat_minor": 4
}
