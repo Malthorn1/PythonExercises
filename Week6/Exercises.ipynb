{
 "cells": [
  {
   "cell_type": "markdown",
   "metadata": {},
   "source": [
    "# Handin Exercise 6\n",
    "\n",
    "Create a module containing a class with the following methods:\n",
    "1. __init__(self, url_list)\n",
    "2. download(url,filename) raises NotFoundException when url returns 404\n",
    "3. multi_download() uses threads to download multiple urls as text and stores filenames as a property\n",
    "4. __iter__() returns an iterator\n",
    "5. __next__() returns the next filename (and stops when there are no more)\n",
    "6. urllist_generator() returns a generator to loop through the urls\n",
    "7. avg_vowels(text) - a rough estimate on readability returns average number of vowels in the words of the text\n",
    "8. hardest_read() returns the filename of the text with the highest vowel score (use all the cpu cores on the computer for this work."
   ]
  },
  {
   "cell_type": "code",
   "execution_count": 1,
   "metadata": {},
   "outputs": [
    {
     "name": "stdout",
     "output_type": "stream",
     "text": [
      "['.ipynb_checkpoints', 'downloads', 'Exercises.ipynb', 'Modules']\n"
     ]
    }
   ],
   "source": [
    "\n",
    "from concurrent.futures import ProcessPoolExecutor\n",
    "from concurrent.futures import ThreadPoolExecutor\n",
    "#from modules import webget\n",
    "import glob\n",
    "import multiprocessing\n",
    "import time\n",
    "import requests\n",
    "import os\n",
    "import matplotlib.pyplot as plt\n",
    "\n",
    "\n",
    "\n",
    "print(os.listdir(os.getcwd()))\n",
    "if os.path.exists('downloads'):\n",
    "    files = glob.glob('./downloads/*')\n",
    "    for f in files:\n",
    "        os.remove(f) \n",
    "else:\n",
    "        os.makedirs('downloads')\n",
    "\n",
    "\n"
   ]
  },
  {
   "cell_type": "code",
   "execution_count": 2,
   "metadata": {},
   "outputs": [],
   "source": [
    "\n",
    "class book_reader():\n",
    "    def __init__(self, url_list, filenames):\n",
    "        self.url_list = url_list\n",
    "        self.filenames = filenames\n",
    "\n",
    "    def __iter__(self, start = 0 ):\n",
    "        self.count = start \n",
    "\n",
    "    def __next__(self):\n",
    "        \"Return the next filename (stops when no more)\"\n",
    "        if self.count < len(self.url_list): \n",
    "            self.count +=1\n",
    "            return self.url_list(self.count-1)\n",
    "        else: \n",
    "            raise StopIteration\n",
    "        \n",
    "    def urllist_generator(self):\n",
    "        for url in self.url_list: \n",
    "            yield url\n",
    "\n",
    "    def download(self, url, filename):\n",
    "        \"Downloads from the url, to the file specified. Throws NotFoundException if 404\"\n",
    "        r = requests.get(url)\n",
    "        if(r.status_code == 404):\n",
    "            raise Exception('URL ' + url + \" NOT FOUND\")\n",
    "        #print('',r.json()['url'])\n",
    "        open('./downloads/' + filename + \".txt\", 'wb').write(r.content)\n",
    "\n",
    "    def multi_download(self):\n",
    "        \"\"\"Uses threads to download multiple urls as text and stores filenames as a property.\"\"\"\n",
    "        pool = ThreadPoolExecutor(len(self.url_list))\n",
    "        pool.map(lambda x, y: self.download(x, y),\n",
    "                 self.url_list, self.filenames)\n",
    "        \n",
    "    def urllist_generator(self):\n",
    "        \"\"\"Returns a generator to loop through the urls\"\"\"\n",
    "        for url in self.url_list:\n",
    "            yield (url)\n",
    "\n",
    "    def avg_vowels(self, text):\n",
    "        \"\"\"Rough estimate on readability - avg number of vowels in the words of the text\"\"\"\n",
    "        vowels = \"AaEeIiOoUu\"\n",
    "        count = len([char for char in text if char in vowels])\n",
    "        return count\n",
    "\n",
    "    \n",
    "    def get_file_contents(self, filename):\n",
    "        os.chdir('/home/jovyan/my_notebooks/Week6/downloads/')\n",
    "        with open(filename+\".txt\") as file:\n",
    "            contents = file.read()\n",
    "            return contents\n",
    "    \n",
    "    \n",
    "    def hardest_read(self):\n",
    "        books = []\n",
    "        file_list = []\n",
    "        for file in self.filenames:\n",
    "            contents = self.get_file_contents(file)\n",
    "            books.append(contents)\n",
    "            file_list.append(file)           \n",
    "        with ProcessPoolExecutor(max_workers=os.cpu_count()) as executor:\n",
    "            res = executor.map(self.avg_vowels, books)\n",
    "        \n",
    "        vowels = list(res)\n",
    "        results = dict(zip(file_list, vowels))\n",
    "            \n",
    "        return (max(results, key = results.get))\n",
    "\n",
    "    def hardest_read_multiprocess(self):\n",
    "        result = self.calc_readability()\n",
    "        return (max(result, key = result.get))\n",
    "    \n",
    "    def calc_readability(self):\n",
    "        with ProcessPoolExecutor(multiprocessing.cpu_count()) as ex:\n",
    "            results = list(ex.map(self.avg_vowels, self.filenames))\n",
    "            result = {}\n",
    "            for x in range(0, len(results)):\n",
    "                d = {self.filenames[x]:results[x]}\n",
    "                result.update(d)\n",
    "        return result\n",
    "\n",
    "    \n",
    "    def plot_hardest_read(self):\n",
    "        results = self.calc_readability()\n",
    "        book_ids = list(zip(*results))[0]\n",
    "        readability = list(zip(*results))[1]\n",
    "        plt.barh(book_ids, readability)\n",
    "        plt.grid(axis='x')\n",
    "        plt.ylabel(\"Book IDs\")\n",
    "        plt.xlabel(\"Readablilty (Avg vowels pr. word)\")\n",
    "        plt.show()   "
   ]
  },
  {
   "cell_type": "code",
   "execution_count": 3,
   "metadata": {},
   "outputs": [],
   "source": []
  },
  {
   "cell_type": "code",
   "execution_count": 3,
   "metadata": {},
   "outputs": [],
   "source": [
    "if __name__ == \"__main__\":\n",
    "    urls = ['https://www.gutenberg.org/files/1342/1342-0.txt',\n",
    "            'https://www.gutenberg.org/files/11/11-0.txt',\n",
    "            'http://www.gutenberg.org/cache/epub/1497/pg1497.txt',\n",
    "\n",
    "            ]\n",
    "    filenames = [\n",
    "        'Pride and Prejudice',\n",
    "        'Alice’s Adventures in Wonderland',\n",
    "         'The Republic'\n",
    "    ]\n",
    "\n",
    "    bookdata = book_reader(urls, filenames)\n",
    "    bookdata.multi_download()\n"
   ]
  },
  {
   "cell_type": "code",
   "execution_count": 4,
   "metadata": {},
   "outputs": [
    {
     "name": "stdout",
     "output_type": "stream",
     "text": [
      "The Republic\n",
      "Finished in 0.14 seconds\n",
      "Alice’s Adventures in Wonderland\n",
      "Finished in 0.04 seconds\n"
     ]
    },
    {
     "data": {
      "image/png": "[encoded data removed]",
      "text/plain": [
       "<Figure size 432x288 with 1 Axes>"
      ]
     },
     "metadata": {
      "needs_background": "light"
     },
     "output_type": "display_data"
    }
   ],
   "source": [
    "\n",
    "    start = time.perf_counter()\n",
    "    \n",
    "    \n",
    "    print(bookdata.hardest_read())\n",
    "\n",
    "    finish = time.perf_counter()\n",
    "    print(f'Finished in {round(finish-start, 2)} seconds')\n",
    "\n",
    "    start = time.perf_counter()\n",
    "    print(bookdata.hardest_read_multiprocess())\n",
    "    finish = time.perf_counter()\n",
    "    print(f'Finished in {round(finish-start, 2)} seconds')\n",
    "\n",
    "    bookdata.plot_hardest_read()"
   ]
  },
  {
   "cell_type": "code",
   "execution_count": null,
   "metadata": {},
   "outputs": [],
   "source": []
  },
  {
   "cell_type": "code",
   "execution_count": null,
   "metadata": {},
   "outputs": [],
   "source": []
  },
  {
   "cell_type": "code",
   "execution_count": null,
   "metadata": {},
   "outputs": [],
   "source": []
  },
  {
   "cell_type": "code",
   "execution_count": null,
   "metadata": {},
   "outputs": [],
   "source": []
  },
  {
   "cell_type": "code",
   "execution_count": null,
   "metadata": {},
   "outputs": [],
   "source": []
  },
  {
   "cell_type": "code",
   "execution_count": null,
   "metadata": {},
   "outputs": [],
   "source": []
  }
 ],
 "metadata": {
  "kernelspec": {
   "display_name": "Python 3",
   "language": "python",
   "name": "python3"
  },
  "language_info": {
   "codemirror_mode": {
    "name": "ipython",
    "version": 3
   },
   "file_extension": ".py",
   "mimetype": "text/x-python",
   "name": "python",
   "nbconvert_exporter": "python",
   "pygments_lexer": "ipython3",
   "version": "3.7.6"
  }
 },
 "nbformat": 4,
 "nbformat_minor": 4
}
